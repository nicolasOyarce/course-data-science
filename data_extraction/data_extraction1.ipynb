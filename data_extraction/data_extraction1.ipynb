{
 "cells": [
  {
   "cell_type": "markdown",
   "metadata": {},
   "source": [
    "1. Method loc()"
   ]
  },
  {
   "cell_type": "code",
   "execution_count": 1,
   "metadata": {},
   "outputs": [],
   "source": [
    "import pandas as pd"
   ]
  },
  {
   "cell_type": "code",
   "execution_count": 2,
   "metadata": {},
   "outputs": [],
   "source": [
    "df_players = pd.read_csv('players_20.csv')"
   ]
  },
  {
   "cell_type": "code",
   "execution_count": 5,
   "metadata": {},
   "outputs": [],
   "source": [
    "df_players.set_index('short_name', inplace=True)"
   ]
  },
  {
   "cell_type": "code",
   "execution_count": 8,
   "metadata": {},
   "outputs": [],
   "source": [
    "# Select columns\n",
    "df_players = df_players[['long_name', 'age', 'dob', 'height_cm', 'weight_kg', 'nationality', 'club']]"
   ]
  },
  {
   "cell_type": "code",
   "execution_count": null,
   "metadata": {},
   "outputs": [
    {
     "data": {
      "text/plain": [
       "long_name      Lionel Andrés Messi Cuccittini\n",
       "age                                        32\n",
       "dob                                1987-06-24\n",
       "height_cm                                 170\n",
       "weight_kg                                  72\n",
       "nationality                         Argentina\n",
       "club                             FC Barcelona\n",
       "Name: L. Messi, dtype: object"
      ]
     },
     "execution_count": 11,
     "metadata": {},
     "output_type": "execute_result"
    }
   ],
   "source": [
    "# Get data Messi - loc\n",
    "df_players.loc['L. Messi']"
   ]
  },
  {
   "cell_type": "code",
   "execution_count": 12,
   "metadata": {},
   "outputs": [
    {
     "data": {
      "text/plain": [
       "np.int64(170)"
      ]
     },
     "execution_count": 12,
     "metadata": {},
     "output_type": "execute_result"
    }
   ],
   "source": [
    "df_players.loc['L. Messi', 'height_cm']"
   ]
  },
  {
   "cell_type": "code",
   "execution_count": 14,
   "metadata": {},
   "outputs": [
    {
     "data": {
      "text/plain": [
       "np.int64(83)"
      ]
     },
     "execution_count": 14,
     "metadata": {},
     "output_type": "execute_result"
    }
   ],
   "source": [
    "# Get data CR7 - loc\n",
    "df_players.loc['Cristiano Ronaldo', 'weight_kg']"
   ]
  },
  {
   "cell_type": "code",
   "execution_count": null,
   "metadata": {},
   "outputs": [
    {
     "data": {
      "text/plain": [
       "short_name\n",
       "L. Messi             170\n",
       "Cristiano Ronaldo    187\n",
       "Neymar Jr            175\n",
       "J. Oblak             188\n",
       "E. Hazard            175\n",
       "                    ... \n",
       "Shao Shuai           186\n",
       "Xiao Mingjie         177\n",
       "Zhang Wei            186\n",
       "Wang Haijian         185\n",
       "Pan Ximing           182\n",
       "Name: height_cm, Length: 18278, dtype: int64"
      ]
     },
     "execution_count": 15,
     "metadata": {},
     "output_type": "execute_result"
    }
   ],
   "source": [
    "# Get all data height\n",
    "df_players.loc[:,'height_cm']"
   ]
  },
  {
   "cell_type": "code",
   "execution_count": 16,
   "metadata": {},
   "outputs": [
    {
     "data": {
      "text/plain": [
       "long_name      Lionel Andrés Messi Cuccittini\n",
       "age                                        32\n",
       "dob                                1987-06-24\n",
       "height_cm                                 170\n",
       "weight_kg                                  72\n",
       "nationality                         Argentina\n",
       "club                             FC Barcelona\n",
       "Name: L. Messi, dtype: object"
      ]
     },
     "execution_count": 16,
     "metadata": {},
     "output_type": "execute_result"
    }
   ],
   "source": [
    "df_players.loc['L. Messi', :]"
   ]
  },
  {
   "cell_type": "markdown",
   "metadata": {},
   "source": [
    "1.1 List values"
   ]
  },
  {
   "cell_type": "code",
   "execution_count": 18,
   "metadata": {},
   "outputs": [
    {
     "data": {
      "text/html": [
       "<div>\n",
       "<style scoped>\n",
       "    .dataframe tbody tr th:only-of-type {\n",
       "        vertical-align: middle;\n",
       "    }\n",
       "\n",
       "    .dataframe tbody tr th {\n",
       "        vertical-align: top;\n",
       "    }\n",
       "\n",
       "    .dataframe thead th {\n",
       "        text-align: right;\n",
       "    }\n",
       "</style>\n",
       "<table border=\"1\" class=\"dataframe\">\n",
       "  <thead>\n",
       "    <tr style=\"text-align: right;\">\n",
       "      <th></th>\n",
       "      <th>long_name</th>\n",
       "      <th>age</th>\n",
       "      <th>dob</th>\n",
       "      <th>height_cm</th>\n",
       "      <th>weight_kg</th>\n",
       "      <th>nationality</th>\n",
       "      <th>club</th>\n",
       "    </tr>\n",
       "    <tr>\n",
       "      <th>short_name</th>\n",
       "      <th></th>\n",
       "      <th></th>\n",
       "      <th></th>\n",
       "      <th></th>\n",
       "      <th></th>\n",
       "      <th></th>\n",
       "      <th></th>\n",
       "    </tr>\n",
       "  </thead>\n",
       "  <tbody>\n",
       "    <tr>\n",
       "      <th>L. Messi</th>\n",
       "      <td>Lionel Andrés Messi Cuccittini</td>\n",
       "      <td>32</td>\n",
       "      <td>1987-06-24</td>\n",
       "      <td>170</td>\n",
       "      <td>72</td>\n",
       "      <td>Argentina</td>\n",
       "      <td>FC Barcelona</td>\n",
       "    </tr>\n",
       "    <tr>\n",
       "      <th>Cristiano Ronaldo</th>\n",
       "      <td>Cristiano Ronaldo dos Santos Aveiro</td>\n",
       "      <td>34</td>\n",
       "      <td>1985-02-05</td>\n",
       "      <td>187</td>\n",
       "      <td>83</td>\n",
       "      <td>Portugal</td>\n",
       "      <td>Juventus</td>\n",
       "    </tr>\n",
       "  </tbody>\n",
       "</table>\n",
       "</div>"
      ],
      "text/plain": [
       "                                             long_name  age         dob  \\\n",
       "short_name                                                                \n",
       "L. Messi                Lionel Andrés Messi Cuccittini   32  1987-06-24   \n",
       "Cristiano Ronaldo  Cristiano Ronaldo dos Santos Aveiro   34  1985-02-05   \n",
       "\n",
       "                   height_cm  weight_kg nationality          club  \n",
       "short_name                                                         \n",
       "L. Messi                 170         72   Argentina  FC Barcelona  \n",
       "Cristiano Ronaldo        187         83    Portugal      Juventus  "
      ]
     },
     "execution_count": 18,
     "metadata": {},
     "output_type": "execute_result"
    }
   ],
   "source": [
    "df_players.loc[['L. Messi', 'Cristiano Ronaldo']]"
   ]
  },
  {
   "cell_type": "code",
   "execution_count": 19,
   "metadata": {},
   "outputs": [
    {
     "data": {
      "text/plain": [
       "short_name\n",
       "L. Messi             170\n",
       "Cristiano Ronaldo    187\n",
       "Name: height_cm, dtype: int64"
      ]
     },
     "execution_count": 19,
     "metadata": {},
     "output_type": "execute_result"
    }
   ],
   "source": [
    "df_players.loc[['L. Messi', 'Cristiano Ronaldo'], 'height_cm']"
   ]
  },
  {
   "cell_type": "code",
   "execution_count": null,
   "metadata": {},
   "outputs": [
    {
     "data": {
      "text/html": [
       "<div>\n",
       "<style scoped>\n",
       "    .dataframe tbody tr th:only-of-type {\n",
       "        vertical-align: middle;\n",
       "    }\n",
       "\n",
       "    .dataframe tbody tr th {\n",
       "        vertical-align: top;\n",
       "    }\n",
       "\n",
       "    .dataframe thead th {\n",
       "        text-align: right;\n",
       "    }\n",
       "</style>\n",
       "<table border=\"1\" class=\"dataframe\">\n",
       "  <thead>\n",
       "    <tr style=\"text-align: right;\">\n",
       "      <th></th>\n",
       "      <th>height_cm</th>\n",
       "      <th>weight_kg</th>\n",
       "    </tr>\n",
       "    <tr>\n",
       "      <th>short_name</th>\n",
       "      <th></th>\n",
       "      <th></th>\n",
       "    </tr>\n",
       "  </thead>\n",
       "  <tbody>\n",
       "    <tr>\n",
       "      <th>L. Messi</th>\n",
       "      <td>170</td>\n",
       "      <td>72</td>\n",
       "    </tr>\n",
       "    <tr>\n",
       "      <th>Cristiano Ronaldo</th>\n",
       "      <td>187</td>\n",
       "      <td>83</td>\n",
       "    </tr>\n",
       "  </tbody>\n",
       "</table>\n",
       "</div>"
      ],
      "text/plain": [
       "                   height_cm  weight_kg\n",
       "short_name                             \n",
       "L. Messi                 170         72\n",
       "Cristiano Ronaldo        187         83"
      ]
     },
     "execution_count": 21,
     "metadata": {},
     "output_type": "execute_result"
    }
   ],
   "source": [
    "df_players.loc[['L. Messi', 'Cristiano Ronaldo'], ['height_cm', 'weight_kg']]"
   ]
  },
  {
   "cell_type": "markdown",
   "metadata": {},
   "source": [
    "1.3 Select range (slice)"
   ]
  },
  {
   "cell_type": "code",
   "execution_count": null,
   "metadata": {},
   "outputs": [
    {
     "data": {
      "text/html": [
       "<div>\n",
       "<style scoped>\n",
       "    .dataframe tbody tr th:only-of-type {\n",
       "        vertical-align: middle;\n",
       "    }\n",
       "\n",
       "    .dataframe tbody tr th {\n",
       "        vertical-align: top;\n",
       "    }\n",
       "\n",
       "    .dataframe thead th {\n",
       "        text-align: right;\n",
       "    }\n",
       "</style>\n",
       "<table border=\"1\" class=\"dataframe\">\n",
       "  <thead>\n",
       "    <tr style=\"text-align: right;\">\n",
       "      <th></th>\n",
       "      <th>age</th>\n",
       "      <th>dob</th>\n",
       "      <th>height_cm</th>\n",
       "      <th>weight_kg</th>\n",
       "      <th>nationality</th>\n",
       "      <th>club</th>\n",
       "    </tr>\n",
       "    <tr>\n",
       "      <th>short_name</th>\n",
       "      <th></th>\n",
       "      <th></th>\n",
       "      <th></th>\n",
       "      <th></th>\n",
       "      <th></th>\n",
       "      <th></th>\n",
       "    </tr>\n",
       "  </thead>\n",
       "  <tbody>\n",
       "    <tr>\n",
       "      <th>L. Messi</th>\n",
       "      <td>32</td>\n",
       "      <td>1987-06-24</td>\n",
       "      <td>170</td>\n",
       "      <td>72</td>\n",
       "      <td>Argentina</td>\n",
       "      <td>FC Barcelona</td>\n",
       "    </tr>\n",
       "    <tr>\n",
       "      <th>Cristiano Ronaldo</th>\n",
       "      <td>34</td>\n",
       "      <td>1985-02-05</td>\n",
       "      <td>187</td>\n",
       "      <td>83</td>\n",
       "      <td>Portugal</td>\n",
       "      <td>Juventus</td>\n",
       "    </tr>\n",
       "  </tbody>\n",
       "</table>\n",
       "</div>"
      ],
      "text/plain": [
       "                   age         dob  height_cm  weight_kg nationality  \\\n",
       "short_name                                                             \n",
       "L. Messi            32  1987-06-24        170         72   Argentina   \n",
       "Cristiano Ronaldo   34  1985-02-05        187         83    Portugal   \n",
       "\n",
       "                           club  \n",
       "short_name                       \n",
       "L. Messi           FC Barcelona  \n",
       "Cristiano Ronaldo      Juventus  "
      ]
     },
     "execution_count": 22,
     "metadata": {},
     "output_type": "execute_result"
    }
   ],
   "source": [
    "# Slice\n",
    "players = ['L. Messi', 'Cristiano Ronaldo']\n",
    "\n",
    "df_players.loc[players, 'age':'club']"
   ]
  },
  {
   "cell_type": "code",
   "execution_count": null,
   "metadata": {},
   "outputs": [
    {
     "data": {
      "text/html": [
       "<div>\n",
       "<style scoped>\n",
       "    .dataframe tbody tr th:only-of-type {\n",
       "        vertical-align: middle;\n",
       "    }\n",
       "\n",
       "    .dataframe tbody tr th {\n",
       "        vertical-align: top;\n",
       "    }\n",
       "\n",
       "    .dataframe thead th {\n",
       "        text-align: right;\n",
       "    }\n",
       "</style>\n",
       "<table border=\"1\" class=\"dataframe\">\n",
       "  <thead>\n",
       "    <tr style=\"text-align: right;\">\n",
       "      <th></th>\n",
       "      <th>age</th>\n",
       "      <th>dob</th>\n",
       "      <th>height_cm</th>\n",
       "      <th>weight_kg</th>\n",
       "    </tr>\n",
       "    <tr>\n",
       "      <th>short_name</th>\n",
       "      <th></th>\n",
       "      <th></th>\n",
       "      <th></th>\n",
       "      <th></th>\n",
       "    </tr>\n",
       "  </thead>\n",
       "  <tbody>\n",
       "    <tr>\n",
       "      <th>L. Messi</th>\n",
       "      <td>32</td>\n",
       "      <td>1987-06-24</td>\n",
       "      <td>170</td>\n",
       "      <td>72</td>\n",
       "    </tr>\n",
       "    <tr>\n",
       "      <th>Cristiano Ronaldo</th>\n",
       "      <td>34</td>\n",
       "      <td>1985-02-05</td>\n",
       "      <td>187</td>\n",
       "      <td>83</td>\n",
       "    </tr>\n",
       "    <tr>\n",
       "      <th>Neymar Jr</th>\n",
       "      <td>27</td>\n",
       "      <td>1992-02-05</td>\n",
       "      <td>175</td>\n",
       "      <td>68</td>\n",
       "    </tr>\n",
       "    <tr>\n",
       "      <th>J. Oblak</th>\n",
       "      <td>26</td>\n",
       "      <td>1993-01-07</td>\n",
       "      <td>188</td>\n",
       "      <td>87</td>\n",
       "    </tr>\n",
       "    <tr>\n",
       "      <th>E. Hazard</th>\n",
       "      <td>28</td>\n",
       "      <td>1991-01-07</td>\n",
       "      <td>175</td>\n",
       "      <td>74</td>\n",
       "    </tr>\n",
       "    <tr>\n",
       "      <th>K. De Bruyne</th>\n",
       "      <td>28</td>\n",
       "      <td>1991-06-28</td>\n",
       "      <td>181</td>\n",
       "      <td>70</td>\n",
       "    </tr>\n",
       "    <tr>\n",
       "      <th>M. ter Stegen</th>\n",
       "      <td>27</td>\n",
       "      <td>1992-04-30</td>\n",
       "      <td>187</td>\n",
       "      <td>85</td>\n",
       "    </tr>\n",
       "    <tr>\n",
       "      <th>V. van Dijk</th>\n",
       "      <td>27</td>\n",
       "      <td>1991-07-08</td>\n",
       "      <td>193</td>\n",
       "      <td>92</td>\n",
       "    </tr>\n",
       "    <tr>\n",
       "      <th>L. Modrić</th>\n",
       "      <td>33</td>\n",
       "      <td>1985-09-09</td>\n",
       "      <td>172</td>\n",
       "      <td>66</td>\n",
       "    </tr>\n",
       "    <tr>\n",
       "      <th>M. Salah</th>\n",
       "      <td>27</td>\n",
       "      <td>1992-06-15</td>\n",
       "      <td>175</td>\n",
       "      <td>71</td>\n",
       "    </tr>\n",
       "  </tbody>\n",
       "</table>\n",
       "</div>"
      ],
      "text/plain": [
       "                   age         dob  height_cm  weight_kg\n",
       "short_name                                              \n",
       "L. Messi            32  1987-06-24        170         72\n",
       "Cristiano Ronaldo   34  1985-02-05        187         83\n",
       "Neymar Jr           27  1992-02-05        175         68\n",
       "J. Oblak            26  1993-01-07        188         87\n",
       "E. Hazard           28  1991-01-07        175         74\n",
       "K. De Bruyne        28  1991-06-28        181         70\n",
       "M. ter Stegen       27  1992-04-30        187         85\n",
       "V. van Dijk         27  1991-07-08        193         92\n",
       "L. Modrić           33  1985-09-09        172         66\n",
       "M. Salah            27  1992-06-15        175         71"
      ]
     },
     "execution_count": 24,
     "metadata": {},
     "output_type": "execute_result"
    }
   ],
   "source": [
    "# Top 10 first player\n",
    "columns = ['age', 'dob', 'height_cm', 'weight_kg']\n",
    "\n",
    "df_players.index[:10]\n",
    "\n",
    "df_players.loc['L. Messi':'M. Salah', columns]"
   ]
  },
  {
   "cell_type": "markdown",
   "metadata": {},
   "source": [
    "1.4 Select with conditionals"
   ]
  },
  {
   "cell_type": "code",
   "execution_count": 28,
   "metadata": {},
   "outputs": [
    {
     "data": {
      "text/html": [
       "<div>\n",
       "<style scoped>\n",
       "    .dataframe tbody tr th:only-of-type {\n",
       "        vertical-align: middle;\n",
       "    }\n",
       "\n",
       "    .dataframe tbody tr th {\n",
       "        vertical-align: top;\n",
       "    }\n",
       "\n",
       "    .dataframe thead th {\n",
       "        text-align: right;\n",
       "    }\n",
       "</style>\n",
       "<table border=\"1\" class=\"dataframe\">\n",
       "  <thead>\n",
       "    <tr style=\"text-align: right;\">\n",
       "      <th></th>\n",
       "      <th>age</th>\n",
       "      <th>dob</th>\n",
       "      <th>height_cm</th>\n",
       "      <th>weight_kg</th>\n",
       "    </tr>\n",
       "    <tr>\n",
       "      <th>short_name</th>\n",
       "      <th></th>\n",
       "      <th></th>\n",
       "      <th></th>\n",
       "      <th></th>\n",
       "    </tr>\n",
       "  </thead>\n",
       "  <tbody>\n",
       "    <tr>\n",
       "      <th>Cristiano Ronaldo</th>\n",
       "      <td>34</td>\n",
       "      <td>1985-02-05</td>\n",
       "      <td>187</td>\n",
       "      <td>83</td>\n",
       "    </tr>\n",
       "    <tr>\n",
       "      <th>J. Oblak</th>\n",
       "      <td>26</td>\n",
       "      <td>1993-01-07</td>\n",
       "      <td>188</td>\n",
       "      <td>87</td>\n",
       "    </tr>\n",
       "    <tr>\n",
       "      <th>K. De Bruyne</th>\n",
       "      <td>28</td>\n",
       "      <td>1991-06-28</td>\n",
       "      <td>181</td>\n",
       "      <td>70</td>\n",
       "    </tr>\n",
       "    <tr>\n",
       "      <th>M. ter Stegen</th>\n",
       "      <td>27</td>\n",
       "      <td>1992-04-30</td>\n",
       "      <td>187</td>\n",
       "      <td>85</td>\n",
       "    </tr>\n",
       "    <tr>\n",
       "      <th>V. van Dijk</th>\n",
       "      <td>27</td>\n",
       "      <td>1991-07-08</td>\n",
       "      <td>193</td>\n",
       "      <td>92</td>\n",
       "    </tr>\n",
       "    <tr>\n",
       "      <th>...</th>\n",
       "      <td>...</td>\n",
       "      <td>...</td>\n",
       "      <td>...</td>\n",
       "      <td>...</td>\n",
       "    </tr>\n",
       "    <tr>\n",
       "      <th>P. Martin</th>\n",
       "      <td>20</td>\n",
       "      <td>1999-01-05</td>\n",
       "      <td>188</td>\n",
       "      <td>84</td>\n",
       "    </tr>\n",
       "    <tr>\n",
       "      <th>Shao Shuai</th>\n",
       "      <td>22</td>\n",
       "      <td>1997-03-10</td>\n",
       "      <td>186</td>\n",
       "      <td>79</td>\n",
       "    </tr>\n",
       "    <tr>\n",
       "      <th>Zhang Wei</th>\n",
       "      <td>19</td>\n",
       "      <td>2000-05-16</td>\n",
       "      <td>186</td>\n",
       "      <td>75</td>\n",
       "    </tr>\n",
       "    <tr>\n",
       "      <th>Wang Haijian</th>\n",
       "      <td>18</td>\n",
       "      <td>2000-08-02</td>\n",
       "      <td>185</td>\n",
       "      <td>74</td>\n",
       "    </tr>\n",
       "    <tr>\n",
       "      <th>Pan Ximing</th>\n",
       "      <td>26</td>\n",
       "      <td>1993-01-11</td>\n",
       "      <td>182</td>\n",
       "      <td>78</td>\n",
       "    </tr>\n",
       "  </tbody>\n",
       "</table>\n",
       "<p>9744 rows × 4 columns</p>\n",
       "</div>"
      ],
      "text/plain": [
       "                   age         dob  height_cm  weight_kg\n",
       "short_name                                              \n",
       "Cristiano Ronaldo   34  1985-02-05        187         83\n",
       "J. Oblak            26  1993-01-07        188         87\n",
       "K. De Bruyne        28  1991-06-28        181         70\n",
       "M. ter Stegen       27  1992-04-30        187         85\n",
       "V. van Dijk         27  1991-07-08        193         92\n",
       "...                ...         ...        ...        ...\n",
       "P. Martin           20  1999-01-05        188         84\n",
       "Shao Shuai          22  1997-03-10        186         79\n",
       "Zhang Wei           19  2000-05-16        186         75\n",
       "Wang Haijian        18  2000-08-02        185         74\n",
       "Pan Ximing          26  1993-01-11        182         78\n",
       "\n",
       "[9744 rows x 4 columns]"
      ]
     },
     "execution_count": 28,
     "metadata": {},
     "output_type": "execute_result"
    }
   ],
   "source": [
    "# More than 180cm\n",
    "columns = ['age', 'dob', 'height_cm', 'weight_kg']\n",
    "\n",
    "df_players.loc[df_players['height_cm']>180, columns]"
   ]
  },
  {
   "cell_type": "code",
   "execution_count": 37,
   "metadata": {},
   "outputs": [
    {
     "data": {
      "text/html": [
       "<div>\n",
       "<style scoped>\n",
       "    .dataframe tbody tr th:only-of-type {\n",
       "        vertical-align: middle;\n",
       "    }\n",
       "\n",
       "    .dataframe tbody tr th {\n",
       "        vertical-align: top;\n",
       "    }\n",
       "\n",
       "    .dataframe thead th {\n",
       "        text-align: right;\n",
       "    }\n",
       "</style>\n",
       "<table border=\"1\" class=\"dataframe\">\n",
       "  <thead>\n",
       "    <tr style=\"text-align: right;\">\n",
       "      <th></th>\n",
       "      <th>long_name</th>\n",
       "      <th>age</th>\n",
       "      <th>dob</th>\n",
       "      <th>height_cm</th>\n",
       "      <th>weight_kg</th>\n",
       "      <th>nationality</th>\n",
       "      <th>club</th>\n",
       "    </tr>\n",
       "    <tr>\n",
       "      <th>short_name</th>\n",
       "      <th></th>\n",
       "      <th></th>\n",
       "      <th></th>\n",
       "      <th></th>\n",
       "      <th></th>\n",
       "      <th></th>\n",
       "      <th></th>\n",
       "    </tr>\n",
       "  </thead>\n",
       "  <tbody>\n",
       "    <tr>\n",
       "      <th>M. Icardi</th>\n",
       "      <td>Mauro Emanuel Icardi Rivero</td>\n",
       "      <td>26</td>\n",
       "      <td>1993-02-19</td>\n",
       "      <td>181</td>\n",
       "      <td>75</td>\n",
       "      <td>Argentina</td>\n",
       "      <td>Inter</td>\n",
       "    </tr>\n",
       "    <tr>\n",
       "      <th>G. Higuaín</th>\n",
       "      <td>Gonzalo Gerardo Higuaín</td>\n",
       "      <td>31</td>\n",
       "      <td>1987-12-10</td>\n",
       "      <td>186</td>\n",
       "      <td>89</td>\n",
       "      <td>Argentina</td>\n",
       "      <td>Juventus</td>\n",
       "    </tr>\n",
       "    <tr>\n",
       "      <th>E. Garay</th>\n",
       "      <td>Ezequiel Marcelo Garay</td>\n",
       "      <td>32</td>\n",
       "      <td>1986-10-10</td>\n",
       "      <td>189</td>\n",
       "      <td>90</td>\n",
       "      <td>Argentina</td>\n",
       "      <td>Valencia CF</td>\n",
       "    </tr>\n",
       "    <tr>\n",
       "      <th>N. Otamendi</th>\n",
       "      <td>Nicolás Hernán Otamendi</td>\n",
       "      <td>31</td>\n",
       "      <td>1988-02-12</td>\n",
       "      <td>183</td>\n",
       "      <td>81</td>\n",
       "      <td>Argentina</td>\n",
       "      <td>Manchester City</td>\n",
       "    </tr>\n",
       "    <tr>\n",
       "      <th>G. Rulli</th>\n",
       "      <td>Gerónimo Rulli</td>\n",
       "      <td>27</td>\n",
       "      <td>1992-05-20</td>\n",
       "      <td>189</td>\n",
       "      <td>84</td>\n",
       "      <td>Argentina</td>\n",
       "      <td>Montpellier HSC</td>\n",
       "    </tr>\n",
       "    <tr>\n",
       "      <th>...</th>\n",
       "      <td>...</td>\n",
       "      <td>...</td>\n",
       "      <td>...</td>\n",
       "      <td>...</td>\n",
       "      <td>...</td>\n",
       "      <td>...</td>\n",
       "      <td>...</td>\n",
       "    </tr>\n",
       "    <tr>\n",
       "      <th>T. Durso</th>\n",
       "      <td>Tomás Durso</td>\n",
       "      <td>20</td>\n",
       "      <td>1999-02-26</td>\n",
       "      <td>185</td>\n",
       "      <td>80</td>\n",
       "      <td>Argentina</td>\n",
       "      <td>Gimnasia y Esgrima La Plata</td>\n",
       "    </tr>\n",
       "    <tr>\n",
       "      <th>J. Hass</th>\n",
       "      <td>Joaquín Hass</td>\n",
       "      <td>21</td>\n",
       "      <td>1998-03-27</td>\n",
       "      <td>186</td>\n",
       "      <td>88</td>\n",
       "      <td>Argentina</td>\n",
       "      <td>Club Atlético Colón</td>\n",
       "    </tr>\n",
       "    <tr>\n",
       "      <th>R. Ferrario</th>\n",
       "      <td>Rafael Ferrario</td>\n",
       "      <td>19</td>\n",
       "      <td>2000-04-30</td>\n",
       "      <td>186</td>\n",
       "      <td>76</td>\n",
       "      <td>Argentina</td>\n",
       "      <td>Club Atlético Huracán</td>\n",
       "    </tr>\n",
       "    <tr>\n",
       "      <th>L. Finochietto</th>\n",
       "      <td>Leandro Finochietto</td>\n",
       "      <td>22</td>\n",
       "      <td>1997-04-25</td>\n",
       "      <td>186</td>\n",
       "      <td>77</td>\n",
       "      <td>Argentina</td>\n",
       "      <td>Argentinos Juniors</td>\n",
       "    </tr>\n",
       "    <tr>\n",
       "      <th>N. Forastiero</th>\n",
       "      <td>Nicolás Forastiero</td>\n",
       "      <td>20</td>\n",
       "      <td>1998-07-16</td>\n",
       "      <td>182</td>\n",
       "      <td>79</td>\n",
       "      <td>Argentina</td>\n",
       "      <td>Argentinos Juniors</td>\n",
       "    </tr>\n",
       "  </tbody>\n",
       "</table>\n",
       "<p>350 rows × 7 columns</p>\n",
       "</div>"
      ],
      "text/plain": [
       "                                  long_name  age         dob  height_cm  \\\n",
       "short_name                                                                \n",
       "M. Icardi       Mauro Emanuel Icardi Rivero   26  1993-02-19        181   \n",
       "G. Higuaín          Gonzalo Gerardo Higuaín   31  1987-12-10        186   \n",
       "E. Garay             Ezequiel Marcelo Garay   32  1986-10-10        189   \n",
       "N. Otamendi         Nicolás Hernán Otamendi   31  1988-02-12        183   \n",
       "G. Rulli                     Gerónimo Rulli   27  1992-05-20        189   \n",
       "...                                     ...  ...         ...        ...   \n",
       "T. Durso                        Tomás Durso   20  1999-02-26        185   \n",
       "J. Hass                        Joaquín Hass   21  1998-03-27        186   \n",
       "R. Ferrario                 Rafael Ferrario   19  2000-04-30        186   \n",
       "L. Finochietto          Leandro Finochietto   22  1997-04-25        186   \n",
       "N. Forastiero            Nicolás Forastiero   20  1998-07-16        182   \n",
       "\n",
       "                weight_kg nationality                         club  \n",
       "short_name                                                          \n",
       "M. Icardi              75   Argentina                        Inter  \n",
       "G. Higuaín             89   Argentina                     Juventus  \n",
       "E. Garay               90   Argentina                  Valencia CF  \n",
       "N. Otamendi            81   Argentina              Manchester City  \n",
       "G. Rulli               84   Argentina              Montpellier HSC  \n",
       "...                   ...         ...                          ...  \n",
       "T. Durso               80   Argentina  Gimnasia y Esgrima La Plata  \n",
       "J. Hass                88   Argentina          Club Atlético Colón  \n",
       "R. Ferrario            76   Argentina        Club Atlético Huracán  \n",
       "L. Finochietto         77   Argentina           Argentinos Juniors  \n",
       "N. Forastiero          79   Argentina           Argentinos Juniors  \n",
       "\n",
       "[350 rows x 7 columns]"
      ]
     },
     "execution_count": 37,
     "metadata": {},
     "output_type": "execute_result"
    }
   ],
   "source": [
    "# Multiple conditionals\n",
    "df_players.loc[(df_players['height_cm']>180) & (df_players['nationality']=='Argentina')]"
   ]
  }
 ],
 "metadata": {
  "kernelspec": {
   "display_name": "venv",
   "language": "python",
   "name": "python3"
  },
  "language_info": {
   "codemirror_mode": {
    "name": "ipython",
    "version": 3
   },
   "file_extension": ".py",
   "mimetype": "text/x-python",
   "name": "python",
   "nbconvert_exporter": "python",
   "pygments_lexer": "ipython3",
   "version": "3.13.2"
  }
 },
 "nbformat": 4,
 "nbformat_minor": 2
}
