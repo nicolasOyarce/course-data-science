{
 "cells": [
  {
   "cell_type": "markdown",
   "id": "dc006eaa",
   "metadata": {},
   "source": [
    "# Concat"
   ]
  },
  {
   "cell_type": "code",
   "execution_count": 1,
   "id": "d850bc3d",
   "metadata": {},
   "outputs": [],
   "source": [
    "import pandas as pd"
   ]
  },
  {
   "cell_type": "code",
   "execution_count": 2,
   "id": "d0fea1a8",
   "metadata": {},
   "outputs": [],
   "source": [
    "df_movies = pd.read_csv('IMDb movies/IMDb movies.csv', low_memory=False)\n",
    "df_ratings = pd.read_csv('IMDb ratings/IMDb ratings.csv', low_memory=False)"
   ]
  },
  {
   "cell_type": "code",
   "execution_count": 3,
   "id": "dece1297",
   "metadata": {},
   "outputs": [],
   "source": [
    "# select columns\n",
    "df_movies = df_movies[['imdb_title_id', 'title', 'year', 'genre', 'country']]\n",
    "df_ratings = df_ratings[['imdb_title_id', 'total_votes', 'mean_vote']]"
   ]
  },
  {
   "cell_type": "markdown",
   "id": "9ff124ec",
   "metadata": {},
   "source": [
    "## Exercise 1"
   ]
  },
  {
   "cell_type": "code",
   "execution_count": null,
   "id": "bb5e9c90",
   "metadata": {},
   "outputs": [],
   "source": [
    "# extrac 50% df\n",
    "df_movies_sample = df_movies.sample(frac=0.5)"
   ]
  },
  {
   "cell_type": "code",
   "execution_count": null,
   "id": "f9a28422",
   "metadata": {},
   "outputs": [
    {
     "name": "stdout",
     "output_type": "stream",
     "text": [
      "(42928, 5)\n",
      "(85855, 5)\n"
     ]
    }
   ],
   "source": [
    "print(df_movies_sample.shape)\n",
    "print(df_movies.shape)"
   ]
  },
  {
   "cell_type": "code",
   "execution_count": 26,
   "id": "71a121a0",
   "metadata": {},
   "outputs": [],
   "source": [
    "# concate - vertical\n",
    "df_concat_vertical = pd.concat([df_movies, df_movies_sample], axis=0, ignore_index=True)"
   ]
  },
  {
   "cell_type": "code",
   "execution_count": 27,
   "id": "46a5059c",
   "metadata": {},
   "outputs": [
    {
     "data": {
      "text/plain": [
       "(128783, 5)"
      ]
     },
     "execution_count": 27,
     "metadata": {},
     "output_type": "execute_result"
    }
   ],
   "source": [
    "df_concat_vertical.shape"
   ]
  },
  {
   "cell_type": "markdown",
   "id": "29e0f0a5",
   "metadata": {},
   "source": [
    "## Exercise 2"
   ]
  },
  {
   "cell_type": "code",
   "execution_count": 4,
   "id": "87a765c5",
   "metadata": {},
   "outputs": [
    {
     "name": "stdout",
     "output_type": "stream",
     "text": [
      "(85855, 3)\n",
      "(85855, 5)\n"
     ]
    }
   ],
   "source": [
    "print(df_ratings.shape)\n",
    "print(df_movies.shape)"
   ]
  },
  {
   "cell_type": "code",
   "execution_count": null,
   "id": "8423c885",
   "metadata": {},
   "outputs": [
    {
     "ename": "KeyError",
     "evalue": "\"None of ['imdb_title_id'] are in the columns\"",
     "output_type": "error",
     "traceback": [
      "\u001b[31m---------------------------------------------------------------------------\u001b[39m",
      "\u001b[31mKeyError\u001b[39m                                  Traceback (most recent call last)",
      "\u001b[32m/tmp/ipykernel_5670/1130253958.py\u001b[39m in \u001b[36m?\u001b[39m\u001b[34m()\u001b[39m\n\u001b[32m----> \u001b[39m\u001b[32m1\u001b[39m df_ratings.set_index(\u001b[33m'imdb_title_id'\u001b[39m, inplace=\u001b[38;5;28;01mTrue\u001b[39;00m)\n\u001b[32m      2\u001b[39m df_movies.set_index(\u001b[33m'imdb_title_id'\u001b[39m, inplace=\u001b[38;5;28;01mTrue\u001b[39;00m)\n",
      "\u001b[32m~/Workspace/course-data-science/venv/lib/python3.13/site-packages/pandas/core/frame.py\u001b[39m in \u001b[36m?\u001b[39m\u001b[34m(self, keys, drop, append, inplace, verify_integrity)\u001b[39m\n\u001b[32m   6118\u001b[39m                     \u001b[38;5;28;01mif\u001b[39;00m \u001b[38;5;28;01mnot\u001b[39;00m found:\n\u001b[32m   6119\u001b[39m                         missing.append(col)\n\u001b[32m   6120\u001b[39m \n\u001b[32m   6121\u001b[39m         \u001b[38;5;28;01mif\u001b[39;00m missing:\n\u001b[32m-> \u001b[39m\u001b[32m6122\u001b[39m             \u001b[38;5;28;01mraise\u001b[39;00m KeyError(f\"None of {missing} are in the columns\")\n\u001b[32m   6123\u001b[39m \n\u001b[32m   6124\u001b[39m         \u001b[38;5;28;01mif\u001b[39;00m inplace:\n\u001b[32m   6125\u001b[39m             frame = self\n",
      "\u001b[31mKeyError\u001b[39m: \"None of ['imdb_title_id'] are in the columns\""
     ]
    }
   ],
   "source": [
    "# merge index\n",
    "df_ratings.set_index('imdb_title_id', inplace=True)\n",
    "df_movies.set_index('imdb_title_id', inplace=True)"
   ]
  },
  {
   "cell_type": "code",
   "execution_count": 19,
   "id": "aef10d9b",
   "metadata": {},
   "outputs": [],
   "source": [
    "# concate - horizontal\n",
    "df_concat_horizontal = pd.concat([df_movies, df_ratings], axis=1)"
   ]
  },
  {
   "cell_type": "code",
   "execution_count": 20,
   "id": "7d9b1a04",
   "metadata": {},
   "outputs": [
    {
     "data": {
      "text/html": [
       "<div>\n",
       "<style scoped>\n",
       "    .dataframe tbody tr th:only-of-type {\n",
       "        vertical-align: middle;\n",
       "    }\n",
       "\n",
       "    .dataframe tbody tr th {\n",
       "        vertical-align: top;\n",
       "    }\n",
       "\n",
       "    .dataframe thead th {\n",
       "        text-align: right;\n",
       "    }\n",
       "</style>\n",
       "<table border=\"1\" class=\"dataframe\">\n",
       "  <thead>\n",
       "    <tr style=\"text-align: right;\">\n",
       "      <th></th>\n",
       "      <th>title</th>\n",
       "      <th>year</th>\n",
       "      <th>genre</th>\n",
       "      <th>country</th>\n",
       "      <th>total_votes</th>\n",
       "      <th>mean_vote</th>\n",
       "    </tr>\n",
       "    <tr>\n",
       "      <th>imdb_title_id</th>\n",
       "      <th></th>\n",
       "      <th></th>\n",
       "      <th></th>\n",
       "      <th></th>\n",
       "      <th></th>\n",
       "      <th></th>\n",
       "    </tr>\n",
       "  </thead>\n",
       "  <tbody>\n",
       "    <tr>\n",
       "      <th>tt0000009</th>\n",
       "      <td>Miss Jerry</td>\n",
       "      <td>1894</td>\n",
       "      <td>Romance</td>\n",
       "      <td>USA</td>\n",
       "      <td>154</td>\n",
       "      <td>5.9</td>\n",
       "    </tr>\n",
       "    <tr>\n",
       "      <th>tt0000574</th>\n",
       "      <td>The Story of the Kelly Gang</td>\n",
       "      <td>1906</td>\n",
       "      <td>Biography, Crime, Drama</td>\n",
       "      <td>Australia</td>\n",
       "      <td>589</td>\n",
       "      <td>6.3</td>\n",
       "    </tr>\n",
       "    <tr>\n",
       "      <th>tt0001892</th>\n",
       "      <td>Den sorte drøm</td>\n",
       "      <td>1911</td>\n",
       "      <td>Drama</td>\n",
       "      <td>Germany, Denmark</td>\n",
       "      <td>188</td>\n",
       "      <td>6.0</td>\n",
       "    </tr>\n",
       "    <tr>\n",
       "      <th>tt0002101</th>\n",
       "      <td>Cleopatra</td>\n",
       "      <td>1912</td>\n",
       "      <td>Drama, History</td>\n",
       "      <td>USA</td>\n",
       "      <td>446</td>\n",
       "      <td>5.3</td>\n",
       "    </tr>\n",
       "    <tr>\n",
       "      <th>tt0002130</th>\n",
       "      <td>L'Inferno</td>\n",
       "      <td>1911</td>\n",
       "      <td>Adventure, Drama, Fantasy</td>\n",
       "      <td>Italy</td>\n",
       "      <td>2237</td>\n",
       "      <td>6.9</td>\n",
       "    </tr>\n",
       "    <tr>\n",
       "      <th>...</th>\n",
       "      <td>...</td>\n",
       "      <td>...</td>\n",
       "      <td>...</td>\n",
       "      <td>...</td>\n",
       "      <td>...</td>\n",
       "      <td>...</td>\n",
       "    </tr>\n",
       "    <tr>\n",
       "      <th>tt9908390</th>\n",
       "      <td>Le lion</td>\n",
       "      <td>2020</td>\n",
       "      <td>Comedy</td>\n",
       "      <td>France, Belgium</td>\n",
       "      <td>398</td>\n",
       "      <td>5.5</td>\n",
       "    </tr>\n",
       "    <tr>\n",
       "      <th>tt9911196</th>\n",
       "      <td>De Beentjes van Sint-Hildegard</td>\n",
       "      <td>2020</td>\n",
       "      <td>Comedy, Drama</td>\n",
       "      <td>Netherlands</td>\n",
       "      <td>724</td>\n",
       "      <td>7.9</td>\n",
       "    </tr>\n",
       "    <tr>\n",
       "      <th>tt9911774</th>\n",
       "      <td>Padmavyuhathile Abhimanyu</td>\n",
       "      <td>2019</td>\n",
       "      <td>Drama</td>\n",
       "      <td>India</td>\n",
       "      <td>265</td>\n",
       "      <td>7.8</td>\n",
       "    </tr>\n",
       "    <tr>\n",
       "      <th>tt9914286</th>\n",
       "      <td>Sokagin Çocuklari</td>\n",
       "      <td>2019</td>\n",
       "      <td>Drama, Family</td>\n",
       "      <td>Turkey</td>\n",
       "      <td>194</td>\n",
       "      <td>9.4</td>\n",
       "    </tr>\n",
       "    <tr>\n",
       "      <th>tt9914942</th>\n",
       "      <td>La vida sense la Sara Amat</td>\n",
       "      <td>2019</td>\n",
       "      <td>Drama</td>\n",
       "      <td>Spain</td>\n",
       "      <td>102</td>\n",
       "      <td>6.8</td>\n",
       "    </tr>\n",
       "  </tbody>\n",
       "</table>\n",
       "<p>85855 rows × 6 columns</p>\n",
       "</div>"
      ],
      "text/plain": [
       "                                        title  year  \\\n",
       "imdb_title_id                                         \n",
       "tt0000009                          Miss Jerry  1894   \n",
       "tt0000574         The Story of the Kelly Gang  1906   \n",
       "tt0001892                      Den sorte drøm  1911   \n",
       "tt0002101                           Cleopatra  1912   \n",
       "tt0002130                           L'Inferno  1911   \n",
       "...                                       ...   ...   \n",
       "tt9908390                             Le lion  2020   \n",
       "tt9911196      De Beentjes van Sint-Hildegard  2020   \n",
       "tt9911774           Padmavyuhathile Abhimanyu  2019   \n",
       "tt9914286                   Sokagin Çocuklari  2019   \n",
       "tt9914942          La vida sense la Sara Amat  2019   \n",
       "\n",
       "                                   genre           country  total_votes  \\\n",
       "imdb_title_id                                                             \n",
       "tt0000009                        Romance               USA          154   \n",
       "tt0000574        Biography, Crime, Drama         Australia          589   \n",
       "tt0001892                          Drama  Germany, Denmark          188   \n",
       "tt0002101                 Drama, History               USA          446   \n",
       "tt0002130      Adventure, Drama, Fantasy             Italy         2237   \n",
       "...                                  ...               ...          ...   \n",
       "tt9908390                         Comedy   France, Belgium          398   \n",
       "tt9911196                  Comedy, Drama       Netherlands          724   \n",
       "tt9911774                          Drama             India          265   \n",
       "tt9914286                  Drama, Family            Turkey          194   \n",
       "tt9914942                          Drama             Spain          102   \n",
       "\n",
       "               mean_vote  \n",
       "imdb_title_id             \n",
       "tt0000009            5.9  \n",
       "tt0000574            6.3  \n",
       "tt0001892            6.0  \n",
       "tt0002101            5.3  \n",
       "tt0002130            6.9  \n",
       "...                  ...  \n",
       "tt9908390            5.5  \n",
       "tt9911196            7.9  \n",
       "tt9911774            7.8  \n",
       "tt9914286            9.4  \n",
       "tt9914942            6.8  \n",
       "\n",
       "[85855 rows x 6 columns]"
      ]
     },
     "execution_count": 20,
     "metadata": {},
     "output_type": "execute_result"
    }
   ],
   "source": [
    "df_concat_horizontal"
   ]
  },
  {
   "cell_type": "code",
   "execution_count": 21,
   "id": "b36a59ac",
   "metadata": {},
   "outputs": [
    {
     "data": {
      "text/plain": [
       "(85855, 6)"
      ]
     },
     "execution_count": 21,
     "metadata": {},
     "output_type": "execute_result"
    }
   ],
   "source": [
    "df_concat_horizontal.shape"
   ]
  }
 ],
 "metadata": {
  "kernelspec": {
   "display_name": "venv",
   "language": "python",
   "name": "python3"
  },
  "language_info": {
   "codemirror_mode": {
    "name": "ipython",
    "version": 3
   },
   "file_extension": ".py",
   "mimetype": "text/x-python",
   "name": "python",
   "nbconvert_exporter": "python",
   "pygments_lexer": "ipython3",
   "version": "3.13.3"
  }
 },
 "nbformat": 4,
 "nbformat_minor": 5
}
